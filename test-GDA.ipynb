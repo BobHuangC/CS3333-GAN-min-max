{
 "cells": [
  {
   "cell_type": "code",
   "execution_count": 1,
   "metadata": {},
   "outputs": [],
   "source": [
    "# test function\n",
    "# f(x, y) = x^2 + y\n",
    "# nabla_x = 2x, nabla_y = 1\n",
    "func_name = 'test-function'"
   ]
  },
  {
   "cell_type": "code",
   "execution_count": 2,
   "metadata": {},
   "outputs": [],
   "source": [
    "from utils import GDA_update_step, OGDA_update_step, optimize, get_timestep_images, gif_generation\n",
    "\n",
    "test_GDA_update_step = GDA_update_step(alpha = 0.1, \n",
    "                                       nabla_x= lambda x, y: 2 * x, \n",
    "                                       nabla_y=lambda x, y: 1)"
   ]
  },
  {
   "cell_type": "code",
   "execution_count": 3,
   "metadata": {},
   "outputs": [
    {
     "name": "stdout",
     "output_type": "stream",
     "text": [
      "GDA updating---\n"
     ]
    },
    {
     "name": "stderr",
     "output_type": "stream",
     "text": [
      "100%|██████████| 100/100 [00:00<00:00, 200684.40it/s]\n"
     ]
    }
   ],
   "source": [
    "optimize(x_0_lis=[10, 10, 7, 8], \n",
    "         y_0_lis=[0, 1, 2, 3],\n",
    "         update_function=test_GDA_update_step,\n",
    "         steps=100,\n",
    "         func_folder_path=func_name,\n",
    "         kernel='GDA')\n",
    "         "
   ]
  },
  {
   "cell_type": "code",
   "execution_count": 4,
   "metadata": {},
   "outputs": [
    {
     "name": "stderr",
     "output_type": "stream",
     "text": [
      "100%|██████████| 101/101 [00:12<00:00,  8.11it/s]\n"
     ]
    }
   ],
   "source": [
    "get_timestep_images(func_folder_path=func_name,\n",
    "                    kernel='GDA',\n",
    "                    img_step=1)"
   ]
  },
  {
   "cell_type": "code",
   "execution_count": 5,
   "metadata": {},
   "outputs": [],
   "source": [
    "gif_generation(func_folder_path=func_name,\n",
    "               kernel='GDA',\n",
    "               gif_img_step=1,)"
   ]
  }
 ],
 "metadata": {
  "kernelspec": {
   "display_name": "AIcoding",
   "language": "python",
   "name": "python3"
  },
  "language_info": {
   "codemirror_mode": {
    "name": "ipython",
    "version": 3
   },
   "file_extension": ".py",
   "mimetype": "text/x-python",
   "name": "python",
   "nbconvert_exporter": "python",
   "pygments_lexer": "ipython3",
   "version": "3.11.5"
  }
 },
 "nbformat": 4,
 "nbformat_minor": 2
}
