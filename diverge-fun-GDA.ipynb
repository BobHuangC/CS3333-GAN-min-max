{
 "cells": [
  {
   "cell_type": "code",
   "execution_count": 6,
   "metadata": {},
   "outputs": [],
   "source": [
    "# f(x, y) = xy\n",
    "# nabla_x = y, nabla_y = x\n",
    "import numpy as np\n",
    "func_name = 'diverge-fun'\n",
    "nabla_x = lambda x, y: y\n",
    "nabla_y = lambda x, y: x\n",
    "GDA_alpha = 0.1\n",
    "\n",
    "x_0_lis = np.linspace(-0.25, 0.25, num=10)\n",
    "y_0_lis = np.linspace(-0.25, 0.25, num=10) \n",
    "x_0_lis = list(x_0_lis) * 10\n",
    "y_0_lis = list(y_0_lis) * 10\n",
    "y_0_lis = sorted(y_0_lis)\n",
    "\n",
    "opt_steps = 250\n",
    "img_steps = 5\n",
    "gif_img_step = 2\n",
    "\n",
    "fps =10"
   ]
  },
  {
   "cell_type": "code",
   "execution_count": 2,
   "metadata": {},
   "outputs": [],
   "source": [
    "from utils import GDA_update_step, OGDA_update_step, optimize, get_timestep_images, gif_generation\n",
    "\n",
    "GDA_update_step = GDA_update_step(alpha = GDA_alpha,\n",
    "                                       nabla_x= nabla_x, \n",
    "                                       nabla_y= nabla_y)"
   ]
  },
  {
   "cell_type": "code",
   "execution_count": 3,
   "metadata": {},
   "outputs": [
    {
     "name": "stdout",
     "output_type": "stream",
     "text": [
      "GDA updating---\n"
     ]
    },
    {
     "name": "stderr",
     "output_type": "stream",
     "text": [
      "100%|██████████| 250/250 [00:00<00:00, 16427.12it/s]\n"
     ]
    }
   ],
   "source": [
    "optimize(x_0_lis=x_0_lis,\n",
    "         y_0_lis=y_0_lis,\n",
    "         update_function=GDA_update_step,\n",
    "         steps=opt_steps,\n",
    "         func_folder_path=func_name,\n",
    "         kernel='GDA')\n",
    "         "
   ]
  },
  {
   "cell_type": "code",
   "execution_count": 4,
   "metadata": {},
   "outputs": [
    {
     "name": "stdout",
     "output_type": "stream",
     "text": [
      "image generation---\n"
     ]
    },
    {
     "name": "stderr",
     "output_type": "stream",
     "text": [
      "100%|██████████| 51/51 [00:16<00:00,  3.17it/s]\n"
     ]
    }
   ],
   "source": [
    "get_timestep_images(func_folder_path=func_name,\n",
    "                    kernel='GDA',\n",
    "                    img_step=img_steps,\n",
    "                    func_exp='f(x, y) = xy')"
   ]
  },
  {
   "cell_type": "code",
   "execution_count": 7,
   "metadata": {},
   "outputs": [
    {
     "name": "stdout",
     "output_type": "stream",
     "text": [
      "gif generation-----\n"
     ]
    },
    {
     "name": "stderr",
     "output_type": "stream",
     "text": [
      "100%|██████████| 26/26 [00:00<00:00, 65.32it/s]\n"
     ]
    }
   ],
   "source": [
    "gif_generation(func_folder_path=func_name,\n",
    "               kernel='GDA',\n",
    "               fps=fps,\n",
    "               gif_img_step=gif_img_step)"
   ]
  }
 ],
 "metadata": {
  "kernelspec": {
   "display_name": "AIcoding",
   "language": "python",
   "name": "python3"
  },
  "language_info": {
   "codemirror_mode": {
    "name": "ipython",
    "version": 3
   },
   "file_extension": ".py",
   "mimetype": "text/x-python",
   "name": "python",
   "nbconvert_exporter": "python",
   "pygments_lexer": "ipython3",
   "version": "3.11.5"
  }
 },
 "nbformat": 4,
 "nbformat_minor": 2
}
