{
 "cells": [
  {
   "cell_type": "code",
   "execution_count": 1,
   "metadata": {},
   "outputs": [],
   "source": [
    "# f(x, y) = -1/8 x^2 - 1/2 y^2 + 6/10 xy\n",
    "# nabla_x = -1/4 x + 6/10 y, nabla_y = -y + 6/10 x\n",
    "import numpy as np\n",
    "func_name = 'func1'\n",
    "nabla_x = lambda x, y: -1/4 * x + 6/10 * y\n",
    "nabla_y = lambda x, y: -y + 6/10 * x\n",
    "GDA_alpha = 0.01\n",
    "OGDA_alpha = 0.01\n",
    "\n",
    "x_0_lis = np.linspace(-0.25, 0.25, num=10)\n",
    "y_0_lis = np.linspace(-0.25, 0.25, num=10) \n",
    "x_0_lis = list(x_0_lis) * 10\n",
    "y_0_lis = list(y_0_lis) * 10\n",
    "y_0_lis = sorted(y_0_lis)\n",
    "\n",
    "opt_steps = 1000\n",
    "img_steps = 5\n",
    "gif_img_step = 1\n",
    "\n",
    "fps =10"
   ]
  },
  {
   "cell_type": "code",
   "execution_count": 2,
   "metadata": {},
   "outputs": [],
   "source": [
    "from utils import GDA_update_step, OGDA_update_step, optimize, get_timestep_images, gif_generation\n",
    "\n",
    "OGDA_update_step = OGDA_update_step(alpha = OGDA_alpha,\n",
    "                                       nabla_x= nabla_x, \n",
    "                                       nabla_y= nabla_y)"
   ]
  },
  {
   "cell_type": "code",
   "execution_count": 3,
   "metadata": {},
   "outputs": [
    {
     "name": "stdout",
     "output_type": "stream",
     "text": [
      "OGDA_updating---\n"
     ]
    },
    {
     "name": "stderr",
     "output_type": "stream",
     "text": [
      "100%|██████████| 999/999 [00:00<00:00, 1833.46it/s]\n"
     ]
    }
   ],
   "source": [
    "optimize(x_0_lis=x_0_lis,\n",
    "         y_0_lis=y_0_lis,\n",
    "         update_function=OGDA_update_step,\n",
    "         steps=opt_steps,\n",
    "         func_folder_path=func_name,\n",
    "         kernel='OGDA')\n",
    "         "
   ]
  },
  {
   "cell_type": "code",
   "execution_count": 4,
   "metadata": {},
   "outputs": [
    {
     "name": "stderr",
     "output_type": "stream",
     "text": [
      "100%|██████████| 201/201 [01:09<00:00,  2.90it/s]\n"
     ]
    }
   ],
   "source": [
    "get_timestep_images(func_folder_path=func_name,\n",
    "                    kernel='OGDA',\n",
    "                    img_step=img_steps)"
   ]
  },
  {
   "cell_type": "code",
   "execution_count": 5,
   "metadata": {},
   "outputs": [
    {
     "name": "stderr",
     "output_type": "stream",
     "text": [
      "100%|██████████| 201/201 [00:03<00:00, 50.44it/s]\n"
     ]
    }
   ],
   "source": [
    "gif_generation(func_folder_path=func_name,\n",
    "               kernel='OGDA',\n",
    "               fps=fps,\n",
    "               gif_img_step=gif_img_step)"
   ]
  }
 ],
 "metadata": {
  "kernelspec": {
   "display_name": "AIcoding",
   "language": "python",
   "name": "python3"
  },
  "language_info": {
   "codemirror_mode": {
    "name": "ipython",
    "version": 3
   },
   "file_extension": ".py",
   "mimetype": "text/x-python",
   "name": "python",
   "nbconvert_exporter": "python",
   "pygments_lexer": "ipython3",
   "version": "3.11.5"
  }
 },
 "nbformat": 4,
 "nbformat_minor": 2
}
