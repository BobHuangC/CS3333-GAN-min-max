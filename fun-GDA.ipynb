{
 "cells": [
  {
   "cell_type": "code",
   "execution_count": 3,
   "metadata": {},
   "outputs": [],
   "source": [
    "# f_1(x, y) = -1/8 x^2 - 1/2 y^2 + 6/10 xy\n",
    "# \\nabla_x f_1 = -1/4 x + 6/10 y\n",
    "# \\nabla_y f_1 = -y + 6/10 x\n",
    "\n",
    "# f_2(x, y) = \\frac{1}{2}x^2 + \\frac{1}{2}y^2 + 4xy\n",
    "# \\nabla_x f_2 = x + 4y\n",
    "# \\nabla_y f_2 = y + 4x\n",
    "\n",
    "# f_3(x, y) = (x-1)^2(y-1)^2\n",
    "# nabla_x f_3 = 2(x-1)(y-1)^2\n",
    "# nabla_y f_3 = 2(y-1)(x-1)^2\n",
    "\n",
    "# f_4(x, y) = x^2y^2\n",
    "# nabla_x f_4 = 2xy^2\n",
    "# nabla_y f_4 = 2x^2y\n",
    "\n",
    "# f(x, y) = (-1/8 x^2 - 1/2 y^2 + 6/10 xy)(x-1)^2(y-1)^2 \n",
    "# + \n",
    "# (\\frac{1}{2}x^2 + \\frac{1}{2}y^2 + 4xy)x^2y^2\n",
    "# f(x, y) = f_1(x, y)f_3(x, y) + f_2(x, y)f_4(x, y)\n",
    "\n",
    "# nabla_x f = (nabla_x f_1) f_3 + f_1 (nabla_x f_3) + (nabla_x f_2) f_4 + f_2 (nabla_x f_4)\n",
    "# nabla_x f = ( -1/4 x + 6/10 y )((x-1)^2(y-1)^2 )  +  ( -1/8 x^2 - 1/2 y^2 + 6/10 xy)(2(x-1)(y-1)^2 )  \n",
    "# +  ( x + 4y )( x^2y^2 )  +  ( \\frac{1}{2}x^2 + \\frac{1}{2}y^2 + 4xy )( 2xy^2)\n",
    "\n",
    "# nabla_y f = (nabla_y f_1) f_3 + f_1 (nabla_y f_3) + (nabla_y f_2) f_4 + f_2 (nabla_y f_4)\n",
    "# nabla_y f = ( -y + 6/10 x )((x-1)^2(y-1)^2 )  +  ( -1/8 x^2 - 1/2 y^2 + 6/10 xy)(2(y-1)(x-1)^2 )\n",
    "# +  ( y + 4x )( x^2y^2 )  +  ( \\frac{1}{2}x^2 + \\frac{1}{2}y^2 + 4xy )( 2x^2y)\n",
    "\n",
    "\n",
    "import numpy as np\n",
    "func_name = 'func'\n",
    "nabla_x = lambda x, y: (-1/4 * x + 6/10 * y) * (x-1)**2 * (y-1)**2 + (-1/8 * x**2 - 1/2 * y**2 + 6/10 * x * y) * 2 * (x-1) * (y-1)**2 + \\\n",
    "    (x + 4 * y) * x**2 * y**2 + (1/2 * x**2 + 1/2 * y**2 + 4 * x * y) * 2 * x * y**2\n",
    "nabla_y = lambda x, y: (-y + 6/10 * x) * (x-1)**2 * (y-1)**2 + (-1/8 * x**2 - 1/2 * y**2 + 6/10 * x * y) * 2 * (y-1) * (x-1)**2 \\\n",
    "    + (y + 4 * x) * x**2 * y**2 + (1/2 * x**2 + 1/2 * y**2 + 4 * x * y) * 2 * x**2 * y\n",
    "GDA_alpha = 0.001\n",
    "\n",
    "x_0_lis = np.linspace(-5, 5, num=100)\n",
    "y_0_lis = np.linspace(-5, 5, num=100) \n",
    "x_0_lis = list(x_0_lis) * 100\n",
    "y_0_lis = list(y_0_lis) * 100\n",
    "y_0_lis = sorted(y_0_lis)\n",
    "\n",
    "opt_steps = 1000\n",
    "img_steps = 20\n",
    "gif_img_step = 1\n",
    "\n",
    "fps =10"
   ]
  },
  {
   "cell_type": "code",
   "execution_count": 4,
   "metadata": {},
   "outputs": [],
   "source": [
    "from utils import GDA_update_step, OGDA_update_step, optimize, get_timestep_images, gif_generation\n",
    "\n",
    "GDA_update_step = GDA_update_step(alpha = GDA_alpha,\n",
    "                                       nabla_x= nabla_x, \n",
    "                                       nabla_y= nabla_y)"
   ]
  },
  {
   "cell_type": "code",
   "execution_count": null,
   "metadata": {},
   "outputs": [],
   "source": [
    "optimize(x_0_lis=x_0_lis,\n",
    "         y_0_lis=y_0_lis,\n",
    "         update_function=GDA_update_step,\n",
    "         steps=opt_steps,\n",
    "         func_folder_path=func_name,\n",
    "         kernel='GDA')\n",
    "         "
   ]
  },
  {
   "cell_type": "code",
   "execution_count": 5,
   "metadata": {},
   "outputs": [
    {
     "name": "stdout",
     "output_type": "stream",
     "text": [
      "image generation---\n"
     ]
    },
    {
     "name": "stderr",
     "output_type": "stream",
     "text": [
      " 73%|███████▎  | 37/51 [05:00<03:14, 13.87s/it]"
     ]
    },
    {
     "ename": "",
     "evalue": "",
     "output_type": "error",
     "traceback": [
      "\u001b[1;31mThe Kernel crashed while executing code in the current cell or a previous cell. \n",
      "\u001b[1;31mPlease review the code in the cell(s) to identify a possible cause of the failure. \n",
      "\u001b[1;31mClick <a href='https://aka.ms/vscodeJupyterKernelCrash'>here</a> for more info. \n",
      "\u001b[1;31mView Jupyter <a href='command:jupyter.viewOutput'>log</a> for further details."
     ]
    }
   ],
   "source": [
    "get_timestep_images(func_folder_path=func_name,\n",
    "                    kernel='GDA',\n",
    "                    img_step=img_steps)"
   ]
  },
  {
   "cell_type": "code",
   "execution_count": null,
   "metadata": {},
   "outputs": [],
   "source": [
    "gif_generation(func_folder_path=func_name,\n",
    "               kernel='GDA',\n",
    "               fps=fps,\n",
    "               gif_img_step=gif_img_step)"
   ]
  }
 ],
 "metadata": {
  "kernelspec": {
   "display_name": "AIcoding",
   "language": "python",
   "name": "python3"
  },
  "language_info": {
   "codemirror_mode": {
    "name": "ipython",
    "version": 3
   },
   "file_extension": ".py",
   "mimetype": "text/x-python",
   "name": "python",
   "nbconvert_exporter": "python",
   "pygments_lexer": "ipython3",
   "version": "3.11.5"
  }
 },
 "nbformat": 4,
 "nbformat_minor": 2
}
