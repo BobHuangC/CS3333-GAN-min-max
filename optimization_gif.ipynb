{
 "cells": [
  {
   "cell_type": "code",
   "execution_count": null,
   "metadata": {},
   "outputs": [],
   "source": [
    "\n",
    "\n",
    "\n",
    "\n",
    "\n",
    "\n"
   ]
  },
  {
   "cell_type": "code",
   "execution_count": null,
   "metadata": {},
   "outputs": [],
   "source": [
    "# # GDA test\n",
    "# # f(x, y) = x^2 + y\n",
    "# # nabla_x = 2x, nabla_y = 1\n",
    "# test_GDA_update_step = GDA_update_step(alpha = 0.1, nabla_x= lambda x, y: 2 * x, nabla_y=lambda x, y: 1)\n",
    "\n",
    "# get_timestep_images(x_0_lis = [10, 10, 7, 8], y_0_lis = [0, 1, 2, 3], update_function=test_GDA_update_step, steps=100, images_folder_path='images_test')\n",
    "\n",
    "# gif_generation(images_num=100, \n",
    "#                images_folder_path='images_test')\n",
    "\n"
   ]
  },
  {
   "cell_type": "code",
   "execution_count": null,
   "metadata": {},
   "outputs": [],
   "source": [
    "# # OGDA test\n",
    "# # f(x, y) = x^2 + y\n",
    "# # nabla_x = 2x, nabla_y = 1\n",
    "test_GDA_update_step = OGDA_update_step(alpha = 0.1, nabla_x= lambda x, y: 2 * x, nabla_y=lambda x, y: 1)\n",
    "\n",
    "get_timestep_images(x_0_lis = [10, 10, 7, 8], \n",
    "                    y_0_lis = [0, 1, 2, 3], \n",
    "                    update_function=test_GDA_update_step, \n",
    "                    steps=200, \n",
    "                    images_folder_path='images_test',\n",
    "                    kernel=\"OGDA\")\n",
    "\n",
    "gif_generation(images_num=100, \n",
    "               images_folder_path='images_test')\n",
    "\n"
   ]
  },
  {
   "cell_type": "code",
   "execution_count": null,
   "metadata": {},
   "outputs": [],
   "source": [
    "# figure 1- function\n",
    "# f(x, y) = -1/8 x^2 - 1/2 y^2 + 6/10 xy\n",
    "# nabla_x = -1/4 x + 6/10 y, nabla_y = -y + 6/10 x\n",
    "\n",
    "nabla_x = lambda x, y: -1/4 * x + 6/10 * y\n",
    "nabla_y = lambda x, y: -y + 6/10 * x\n",
    "alpha = 0.01\n",
    "x_0_lis = np.linspace(-0.25, 0.25, num=10)\n",
    "y_0_lis = np.linspace(-0.25, 0.25, num=10) \n",
    "x_0_lis = list(x_0_lis) * 10\n",
    "y_0_lis = list(y_0_lis) * 10\n",
    "y_0_lis = sorted(y_0_lis)\n",
    "\n",
    "steps = 1000\n",
    "images_folder_path = 'figure_1'\n"
   ]
  },
  {
   "cell_type": "code",
   "execution_count": 6,
   "metadata": {},
   "outputs": [
    {
     "name": "stderr",
     "output_type": "stream",
     "text": [
      "100%|██████████| 101/101 [00:24<00:00,  4.06it/s]\n"
     ]
    }
   ],
   "source": [
    "\n",
    "test_GDA_update_step = GDA_update_step(alpha = alpha, \n",
    "                                       nabla_x= nabla_x,\n",
    "                                        nabla_y=nabla_y)\n",
    "\n",
    "test_OGDA_update_step = OGDA_update_step(alpha = alpha, \n",
    "                                       nabla_x= nabla_x,\n",
    "                                        nabla_y=nabla_y)\n",
    "get_timestep_images(x_0_lis = x_0_lis, \n",
    "                    y_0_lis = y_0_lis, \n",
    "                    update_function=test_OGDA_update_step, \n",
    "                    steps=steps,\n",
    "                    images_folder_path=images_folder_path,\n",
    "                    kernel=\"OGDA\")"
   ]
  },
  {
   "cell_type": "code",
   "execution_count": 7,
   "metadata": {},
   "outputs": [
    {
     "name": "stderr",
     "output_type": "stream",
     "text": [
      "/tmp/ipykernel_66790/775396393.py:141: DeprecationWarning: Starting with ImageIO v3 the behavior of this function will switch to that of iio.v3.imread. To keep the current behavior (and make this warning disappear) use `import imageio.v2 as imageio` or call `imageio.v2.imread` directly.\n",
      "  images.append(imageio.imread(f'{images_folder_path}/step_{i}.png'))\n"
     ]
    }
   ],
   "source": [
    "gif_generation(images_num=800,\n",
    "                images_folder_path=images_folder_path,\n",
    "                fps=steps//10, \n",
    "                step=10)\n"
   ]
  }
 ],
 "metadata": {
  "kernelspec": {
   "display_name": "AIcoding",
   "language": "python",
   "name": "python3"
  },
  "language_info": {
   "codemirror_mode": {
    "name": "ipython",
    "version": 3
   },
   "file_extension": ".py",
   "mimetype": "text/x-python",
   "name": "python",
   "nbconvert_exporter": "python",
   "pygments_lexer": "ipython3",
   "version": "3.11.5"
  }
 },
 "nbformat": 4,
 "nbformat_minor": 2
}
