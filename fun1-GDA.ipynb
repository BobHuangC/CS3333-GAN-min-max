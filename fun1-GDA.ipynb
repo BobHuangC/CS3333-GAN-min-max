{
 "cells": [
  {
   "cell_type": "code",
   "execution_count": 6,
   "metadata": {},
   "outputs": [],
   "source": [
    "# f(x, y) = -1/8 x^2 - 1/2 y^2 + 6/10 xy\n",
    "# nabla_x = -1/4 x + 6/10 y, nabla_y = -y + 6/10 x\n",
    "import numpy as np\n",
    "func_name = 'func1'\n",
    "nabla_x = lambda x, y: -1/4 * x + 6/10 * y\n",
    "nabla_y = lambda x, y: -y + 6/10 * x\n",
    "GDA_alpha = 0.01\n",
    "\n",
    "x_0_lis = np.linspace(-0.25, 0.25, num=10)\n",
    "y_0_lis = np.linspace(-0.25, 0.25, num=10) \n",
    "x_0_lis = list(x_0_lis) * 10\n",
    "y_0_lis = list(y_0_lis) * 10\n",
    "y_0_lis = sorted(y_0_lis)\n",
    "\n",
    "opt_steps = 2000\n",
    "img_steps = 5\n",
    "gif_img_step = 2\n",
    "\n",
    "fps =20"
   ]
  },
  {
   "cell_type": "code",
   "execution_count": null,
   "metadata": {},
   "outputs": [],
   "source": [
    "from utils import GDA_update_step, OGDA_update_step, optimize, get_timestep_images, gif_generation\n",
    "\n",
    "GDA_update_step = GDA_update_step(alpha = GDA_alpha,\n",
    "                                       nabla_x= nabla_x, \n",
    "                                       nabla_y= nabla_y)"
   ]
  },
  {
   "cell_type": "code",
   "execution_count": null,
   "metadata": {},
   "outputs": [],
   "source": [
    "optimize(x_0_lis=x_0_lis,\n",
    "         y_0_lis=y_0_lis,\n",
    "         update_function=GDA_update_step,\n",
    "         steps=opt_steps,\n",
    "         func_folder_path=func_name,\n",
    "         kernel='GDA')\n",
    "         "
   ]
  },
  {
   "cell_type": "code",
   "execution_count": 4,
   "metadata": {},
   "outputs": [
    {
     "name": "stderr",
     "output_type": "stream",
     "text": [
      "100%|██████████| 401/401 [02:06<00:00,  3.17it/s]\n"
     ]
    }
   ],
   "source": [
    "get_timestep_images(func_folder_path=func_name,\n",
    "                    kernel='GDA',\n",
    "                    img_step=img_steps,\n",
    "                    func_exp='f(x, y) = -1/8 x^2 - 1/2 y^2 + 6/10 xy')"
   ]
  },
  {
   "cell_type": "code",
   "execution_count": 7,
   "metadata": {},
   "outputs": [
    {
     "name": "stdout",
     "output_type": "stream",
     "text": [
      "gif generation-----\n"
     ]
    },
    {
     "name": "stderr",
     "output_type": "stream",
     "text": [
      "100%|██████████| 201/201 [00:02<00:00, 76.89it/s]\n"
     ]
    },
    {
     "ename": "",
     "evalue": "",
     "output_type": "error",
     "traceback": [
      "\u001b[1;31mThe Kernel crashed while executing code in the current cell or a previous cell. \n",
      "\u001b[1;31mPlease review the code in the cell(s) to identify a possible cause of the failure. \n",
      "\u001b[1;31mClick <a href='https://aka.ms/vscodeJupyterKernelCrash'>here</a> for more info. \n",
      "\u001b[1;31mView Jupyter <a href='command:jupyter.viewOutput'>log</a> for further details."
     ]
    }
   ],
   "source": [
    "gif_generation(func_folder_path=func_name,\n",
    "               kernel='GDA',\n",
    "               fps=fps,\n",
    "               gif_img_step=gif_img_step)"
   ]
  }
 ],
 "metadata": {
  "kernelspec": {
   "display_name": "AIcoding",
   "language": "python",
   "name": "python3"
  },
  "language_info": {
   "codemirror_mode": {
    "name": "ipython",
    "version": 3
   },
   "file_extension": ".py",
   "mimetype": "text/x-python",
   "name": "python",
   "nbconvert_exporter": "python",
   "pygments_lexer": "ipython3",
   "version": "3.11.5"
  }
 },
 "nbformat": 4,
 "nbformat_minor": 2
}
